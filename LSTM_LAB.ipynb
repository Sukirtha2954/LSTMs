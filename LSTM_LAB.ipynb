{
  "metadata": {
    "kernelspec": {
      "language": "python",
      "display_name": "Python 3",
      "name": "python3"
    },
    "language_info": {
      "name": "python",
      "version": "3.10.14",
      "mimetype": "text/x-python",
      "codemirror_mode": {
        "name": "ipython",
        "version": 3
      },
      "pygments_lexer": "ipython3",
      "nbconvert_exporter": "python",
      "file_extension": ".py"
    },
    "kaggle": {
      "accelerator": "nvidiaTeslaT4",
      "dataSources": [
        {
          "sourceId": 14036,
          "sourceType": "datasetVersion",
          "datasetId": 9914
        },
        {
          "sourceId": 793070,
          "sourceType": "datasetVersion",
          "datasetId": 226
        }
      ],
      "dockerImageVersionId": 30786,
      "isInternetEnabled": true,
      "language": "python",
      "sourceType": "notebook",
      "isGpuEnabled": true
    },
    "colab": {
      "name": "LSTM-LAB",
      "provenance": []
    }
  },
  "nbformat_minor": 0,
  "nbformat": 4,
  "cells": [
    {
      "source": [
        "\n"
      ],
      "metadata": {
        "id": "ey6oTP82RwDR"
      },
      "cell_type": "code",
      "outputs": [],
      "execution_count": null
    },
    {
      "cell_type": "markdown",
      "source": [],
      "metadata": {
        "_uuid": "8f2839f25d086af736a60e9eeb907d3b93b6e0e5",
        "_cell_guid": "b1076dfc-b9ad-4769-8c92-a6c4dae69d19",
        "id": "QAYvUsWeRwDY"
      }
    },
    {
      "cell_type": "code",
      "source": [
        "import pandas as pd\n",
        "import numpy as np\n",
        "import tensorflow as tf\n",
        "from tensorflow.keras.models import Sequential\n",
        "from tensorflow.keras.layers import Embedding, SimpleRNN, LSTM, Dense\n",
        "\n",
        "# Load IMDb dataset function\n",
        "def load_imdb_dataset():\n",
        "    # IMDb dataset loading (from imdb_master.csv)\n",
        "    imdb_data = pd.read_csv('/kaggle/input/imdb-review-dataset/imdb_master.csv', encoding='latin-1')\n",
        "\n",
        "    # Exclude unsupervised data\n",
        "    imdb_data = imdb_data[imdb_data['label'] != 'unsup']\n",
        "\n",
        "    # Extract reviews and labels\n",
        "    imdb_reviews = imdb_data['review'].values\n",
        "    imdb_labels = imdb_data['label'].map({'neg': 0, 'pos': 1}).values  # Map 'neg' to 0 and 'pos' to 1\n",
        "\n",
        "    # Split data into training and testing (80/20 split)\n",
        "    split_index = int(0.8 * len(imdb_reviews))\n",
        "    imdb_train_data = imdb_reviews[:split_index]\n",
        "    imdb_train_labels = imdb_labels[:split_index]\n",
        "    imdb_test_data = imdb_reviews[split_index:]\n",
        "    imdb_test_labels = imdb_labels[split_index:]\n",
        "\n",
        "    # Tokenize and pad sequences\n",
        "    tokenizer = tf.keras.preprocessing.text.Tokenizer(num_words=10000)\n",
        "    tokenizer.fit_on_texts(imdb_train_data)\n",
        "\n",
        "    imdb_train_data = tokenizer.texts_to_sequences(imdb_train_data)\n",
        "    imdb_test_data = tokenizer.texts_to_sequences(imdb_test_data)\n",
        "\n",
        "    maxlen = 250  # Maximum length of sequences\n",
        "    imdb_train_data = tf.keras.preprocessing.sequence.pad_sequences(imdb_train_data, maxlen=maxlen)\n",
        "    imdb_test_data = tf.keras.preprocessing.sequence.pad_sequences(imdb_test_data, maxlen=maxlen)\n",
        "\n",
        "    return imdb_train_data, imdb_train_labels, imdb_test_data, imdb_test_labels\n",
        "\n",
        "# Load HAR dataset function\n",
        "def load_har_dataset():\n",
        "    # Load HAR training and testing data\n",
        "    har_train_data = pd.read_csv('/kaggle/input/human-activity-recognition-with-smartphones/train.csv')\n",
        "    har_test_data = pd.read_csv('/kaggle/input/human-activity-recognition-with-smartphones/test.csv')\n",
        "\n",
        "    # Extract features and labels\n",
        "    har_train_labels = har_train_data.iloc[:, -1].values  # Labels are in the last column\n",
        "    har_train_data = har_train_data.iloc[:, :-1].values   # Features are all columns except last\n",
        "    har_test_labels = har_test_data.iloc[:, -1].values    # Labels\n",
        "    har_test_data = har_test_data.iloc[:, :-1].values     # Features\n",
        "\n",
        "    # Convert labels to integers starting from 0\n",
        "    unique_labels = np.unique(np.concatenate((har_train_labels, har_test_labels)))\n",
        "    label_to_index = {label: idx for idx, label in enumerate(unique_labels)}\n",
        "    har_train_labels = np.array([label_to_index[label] for label in har_train_labels])\n",
        "    har_test_labels = np.array([label_to_index[label] for label in har_test_labels])\n",
        "\n",
        "    return har_train_data, har_train_labels, har_test_data, har_test_labels\n",
        "\n",
        "# Normalize HAR data\n",
        "def normalize_data(data):\n",
        "    return data / np.linalg.norm(data, axis=1, keepdims=True)\n",
        "\n",
        "# Function to train and evaluate models\n",
        "def train_model(X_train, y_train, X_test, y_test, input_shape, n_classes, model_type='RNN', units=32, epochs=5):\n",
        "    model = Sequential()\n",
        "\n",
        "    if len(input_shape) == 1:  # IMDb dataset\n",
        "        model.add(Embedding(10000, 128, input_length=input_shape[0]))\n",
        "        if model_type == 'RNN':\n",
        "            model.add(SimpleRNN(units))\n",
        "        elif model_type == 'LSTM':\n",
        "            model.add(LSTM(units))\n",
        "    else:  # HAR dataset\n",
        "        if model_type == 'RNN':\n",
        "            model.add(SimpleRNN(units, input_shape=input_shape))\n",
        "        elif model_type == 'LSTM':\n",
        "            model.add(LSTM(units, input_shape=input_shape))\n",
        "\n",
        "    model.add(Dense(n_classes, activation='softmax'))\n",
        "\n",
        "    model.compile(optimizer='adam', loss='sparse_categorical_crossentropy', metrics=['accuracy'])\n",
        "\n",
        "    model.fit(X_train, y_train, epochs=epochs, batch_size=64, validation_data=(X_test, y_test), verbose=1)\n",
        "\n",
        "    loss, accuracy = model.evaluate(X_test, y_test, verbose=0)\n",
        "    return accuracy\n",
        "\n",
        "# Load datasets\n",
        "X_imdb_train, y_imdb_train, X_imdb_test, y_imdb_test = load_imdb_dataset()\n",
        "X_har_train, y_har_train, X_har_test, y_har_test = load_har_dataset()\n",
        "\n",
        "# Normalize HAR data\n",
        "X_har_train = normalize_data(X_har_train)\n",
        "X_har_test = normalize_data(X_har_test)\n",
        "\n",
        "# Reshape HAR data for RNN/LSTM input\n",
        "X_har_train = X_har_train.reshape((X_har_train.shape[0], X_har_train.shape[1], 1))\n",
        "X_har_test = X_har_test.reshape((X_har_test.shape[0], X_har_test.shape[1], 1))\n",
        "\n",
        "# Define input shapes and number of classes\n",
        "input_shape_imdb = (X_imdb_train.shape[1],)\n",
        "n_classes_imdb = 2\n",
        "\n",
        "input_shape_har = (X_har_train.shape[1], 1)\n",
        "n_classes_har = len(np.unique(y_har_train))\n",
        "\n",
        "# Configurations to test\n",
        "rnn_configs = [32, 64, 128]\n",
        "lstm_configs = [32, 64, 128]\n",
        "\n",
        "# Results storage\n",
        "results = {\n",
        "    'Dataset': [],\n",
        "    'Model': [],\n",
        "    'Units': [],\n",
        "    'Accuracy': []\n",
        "}\n",
        "\n",
        "# Train and evaluate RNN models for IMDb dataset\n",
        "for units in rnn_configs:\n",
        "    accuracy = train_model(X_imdb_train, y_imdb_train, X_imdb_test, y_imdb_test,\n",
        "                           input_shape_imdb, n_classes_imdb, model_type='RNN', units=units, epochs=5)\n",
        "    results['Dataset'].append('IMDb')\n",
        "    results['Model'].append('RNN')\n",
        "    results['Units'].append(units)\n",
        "    results['Accuracy'].append(accuracy)\n",
        "\n",
        "# Train and evaluate LSTM models for IMDb dataset\n",
        "for units in lstm_configs:\n",
        "    accuracy = train_model(X_imdb_train, y_imdb_train, X_imdb_test, y_imdb_test,\n",
        "                           input_shape_imdb, n_classes_imdb, model_type='LSTM', units=units, epochs=5)\n",
        "    results['Dataset'].append('IMDb')\n",
        "    results['Model'].append('LSTM')\n",
        "    results['Units'].append(units)\n",
        "    results['Accuracy'].append(accuracy)\n",
        "\n",
        "# Train and evaluate RNN models for HAR dataset\n",
        "for units in rnn_configs:\n",
        "    accuracy = train_model(X_har_train, y_har_train, X_har_test, y_har_test,\n",
        "                           input_shape_har, n_classes_har, model_type='RNN', units=units, epochs=5)\n",
        "    results['Dataset'].append('HAR')\n",
        "    results['Model'].append('RNN')\n",
        "    results['Units'].append(units)\n",
        "    results['Accuracy'].append(accuracy)\n",
        "\n",
        "# Train and evaluate LSTM models for HAR dataset\n",
        "for units in lstm_configs:\n",
        "    accuracy = train_model(X_har_train, y_har_train, X_har_test, y_har_test,\n",
        "                           input_shape_har, n_classes_har, model_type='LSTM', units=units, epochs=5)\n",
        "    results['Dataset'].append('HAR')\n",
        "    results['Model'].append('LSTM')\n",
        "    results['Units'].append(units)\n",
        "    results['Accuracy'].append(accuracy)\n",
        "\n",
        "# Convert results to DataFrame and display\n",
        "results_df = pd.DataFrame(results)\n",
        "print(results_df)\n"
      ],
      "metadata": {
        "execution": {
          "iopub.status.busy": "2024-10-15T17:29:08.377007Z",
          "iopub.execute_input": "2024-10-15T17:29:08.37741Z",
          "iopub.status.idle": "2024-10-15T17:37:02.845688Z",
          "shell.execute_reply.started": "2024-10-15T17:29:08.377372Z",
          "shell.execute_reply": "2024-10-15T17:37:02.84474Z"
        },
        "trusted": true,
        "id": "VjP5mqJGRwDa",
        "outputId": "41460d61-2e27-444e-e77c-0fe6d1cf3438"
      },
      "execution_count": null,
      "outputs": [
        {
          "name": "stdout",
          "text": "Epoch 1/5\n",
          "output_type": "stream"
        },
        {
          "name": "stderr",
          "text": "/opt/conda/lib/python3.10/site-packages/keras/src/layers/core/embedding.py:90: UserWarning: Argument `input_length` is deprecated. Just remove it.\n  warnings.warn(\n",
          "output_type": "stream"
        },
        {
          "name": "stdout",
          "text": "\u001b[1m625/625\u001b[0m \u001b[32m━━━━━━━━━━━━━━━━━━━━\u001b[0m\u001b[37m\u001b[0m \u001b[1m16s\u001b[0m 22ms/step - accuracy: 0.7101 - loss: 0.5524 - val_accuracy: 0.8279 - val_loss: 0.4542\nEpoch 2/5\n\u001b[1m625/625\u001b[0m \u001b[32m━━━━━━━━━━━━━━━━━━━━\u001b[0m\u001b[37m\u001b[0m \u001b[1m13s\u001b[0m 21ms/step - accuracy: 0.8757 - loss: 0.3079 - val_accuracy: 0.6137 - val_loss: 0.9903\nEpoch 3/5\n\u001b[1m625/625\u001b[0m \u001b[32m━━━━━━━━━━━━━━━━━━━━\u001b[0m\u001b[37m\u001b[0m \u001b[1m13s\u001b[0m 20ms/step - accuracy: 0.9223 - loss: 0.2057 - val_accuracy: 0.7824 - val_loss: 0.5944\nEpoch 4/5\n\u001b[1m625/625\u001b[0m \u001b[32m━━━━━━━━━━━━━━━━━━━━\u001b[0m\u001b[37m\u001b[0m \u001b[1m13s\u001b[0m 20ms/step - accuracy: 0.9654 - loss: 0.1029 - val_accuracy: 0.7536 - val_loss: 0.7624\nEpoch 5/5\n\u001b[1m625/625\u001b[0m \u001b[32m━━━━━━━━━━━━━━━━━━━━\u001b[0m\u001b[37m\u001b[0m \u001b[1m13s\u001b[0m 20ms/step - accuracy: 0.9891 - loss: 0.0417 - val_accuracy: 0.7665 - val_loss: 0.9085\nEpoch 1/5\n\u001b[1m625/625\u001b[0m \u001b[32m━━━━━━━━━━━━━━━━━━━━\u001b[0m\u001b[37m\u001b[0m \u001b[1m16s\u001b[0m 22ms/step - accuracy: 0.7149 - loss: 0.5447 - val_accuracy: 0.7406 - val_loss: 0.5822\nEpoch 2/5\n\u001b[1m625/625\u001b[0m \u001b[32m━━━━━━━━━━━━━━━━━━━━\u001b[0m\u001b[37m\u001b[0m \u001b[1m13s\u001b[0m 21ms/step - accuracy: 0.8862 - loss: 0.2800 - val_accuracy: 0.6416 - val_loss: 0.7633\nEpoch 3/5\n\u001b[1m625/625\u001b[0m \u001b[32m━━━━━━━━━━━━━━━━━━━━\u001b[0m\u001b[37m\u001b[0m \u001b[1m13s\u001b[0m 21ms/step - accuracy: 0.8783 - loss: 0.2904 - val_accuracy: 0.7285 - val_loss: 0.9119\nEpoch 4/5\n\u001b[1m625/625\u001b[0m \u001b[32m━━━━━━━━━━━━━━━━━━━━\u001b[0m\u001b[37m\u001b[0m \u001b[1m13s\u001b[0m 21ms/step - accuracy: 0.9670 - loss: 0.0923 - val_accuracy: 0.7015 - val_loss: 1.0986\nEpoch 5/5\n\u001b[1m625/625\u001b[0m \u001b[32m━━━━━━━━━━━━━━━━━━━━\u001b[0m\u001b[37m\u001b[0m \u001b[1m13s\u001b[0m 21ms/step - accuracy: 0.9818 - loss: 0.0553 - val_accuracy: 0.7315 - val_loss: 1.0501\nEpoch 1/5\n\u001b[1m625/625\u001b[0m \u001b[32m━━━━━━━━━━━━━━━━━━━━\u001b[0m\u001b[37m\u001b[0m \u001b[1m18s\u001b[0m 25ms/step - accuracy: 0.6730 - loss: 0.5987 - val_accuracy: 0.8272 - val_loss: 0.4157\nEpoch 2/5\n\u001b[1m625/625\u001b[0m \u001b[32m━━━━━━━━━━━━━━━━━━━━\u001b[0m\u001b[37m\u001b[0m \u001b[1m14s\u001b[0m 23ms/step - accuracy: 0.7779 - loss: 0.4777 - val_accuracy: 0.5332 - val_loss: 0.8051\nEpoch 3/5\n\u001b[1m625/625\u001b[0m \u001b[32m━━━━━━━━━━━━━━━━━━━━\u001b[0m\u001b[37m\u001b[0m \u001b[1m14s\u001b[0m 23ms/step - accuracy: 0.8040 - loss: 0.4406 - val_accuracy: 0.7896 - val_loss: 0.4778\nEpoch 4/5\n\u001b[1m625/625\u001b[0m \u001b[32m━━━━━━━━━━━━━━━━━━━━\u001b[0m\u001b[37m\u001b[0m \u001b[1m14s\u001b[0m 23ms/step - accuracy: 0.7864 - loss: 0.4570 - val_accuracy: 0.7189 - val_loss: 0.5626\nEpoch 5/5\n\u001b[1m625/625\u001b[0m \u001b[32m━━━━━━━━━━━━━━━━━━━━\u001b[0m\u001b[37m\u001b[0m \u001b[1m14s\u001b[0m 23ms/step - accuracy: 0.8285 - loss: 0.3993 - val_accuracy: 0.5787 - val_loss: 0.7538\nEpoch 1/5\n\u001b[1m625/625\u001b[0m \u001b[32m━━━━━━━━━━━━━━━━━━━━\u001b[0m\u001b[37m\u001b[0m \u001b[1m9s\u001b[0m 11ms/step - accuracy: 0.7752 - loss: 0.4587 - val_accuracy: 0.8362 - val_loss: 0.4186\nEpoch 2/5\n\u001b[1m625/625\u001b[0m \u001b[32m━━━━━━━━━━━━━━━━━━━━\u001b[0m\u001b[37m\u001b[0m \u001b[1m7s\u001b[0m 11ms/step - accuracy: 0.9177 - loss: 0.2115 - val_accuracy: 0.8048 - val_loss: 0.5000\nEpoch 3/5\n\u001b[1m625/625\u001b[0m \u001b[32m━━━━━━━━━━━━━━━━━━━━\u001b[0m\u001b[37m\u001b[0m \u001b[1m7s\u001b[0m 11ms/step - accuracy: 0.9493 - loss: 0.1426 - val_accuracy: 0.8785 - val_loss: 0.3560\nEpoch 4/5\n\u001b[1m625/625\u001b[0m \u001b[32m━━━━━━━━━━━━━━━━━━━━\u001b[0m\u001b[37m\u001b[0m \u001b[1m7s\u001b[0m 11ms/step - accuracy: 0.9637 - loss: 0.1030 - val_accuracy: 0.8323 - val_loss: 0.6037\nEpoch 5/5\n\u001b[1m625/625\u001b[0m \u001b[32m━━━━━━━━━━━━━━━━━━━━\u001b[0m\u001b[37m\u001b[0m \u001b[1m7s\u001b[0m 11ms/step - accuracy: 0.9743 - loss: 0.0741 - val_accuracy: 0.8229 - val_loss: 0.5430\nEpoch 1/5\n\u001b[1m625/625\u001b[0m \u001b[32m━━━━━━━━━━━━━━━━━━━━\u001b[0m\u001b[37m\u001b[0m \u001b[1m9s\u001b[0m 12ms/step - accuracy: 0.7771 - loss: 0.4582 - val_accuracy: 0.8442 - val_loss: 0.3687\nEpoch 2/5\n\u001b[1m625/625\u001b[0m \u001b[32m━━━━━━━━━━━━━━━━━━━━\u001b[0m\u001b[37m\u001b[0m \u001b[1m7s\u001b[0m 11ms/step - accuracy: 0.9163 - loss: 0.2182 - val_accuracy: 0.8929 - val_loss: 0.2938\nEpoch 3/5\n\u001b[1m625/625\u001b[0m \u001b[32m━━━━━━━━━━━━━━━━━━━━\u001b[0m\u001b[37m\u001b[0m \u001b[1m7s\u001b[0m 11ms/step - accuracy: 0.9422 - loss: 0.1569 - val_accuracy: 0.8224 - val_loss: 0.4586\nEpoch 4/5\n\u001b[1m625/625\u001b[0m \u001b[32m━━━━━━━━━━━━━━━━━━━━\u001b[0m\u001b[37m\u001b[0m \u001b[1m7s\u001b[0m 11ms/step - accuracy: 0.9586 - loss: 0.1151 - val_accuracy: 0.8531 - val_loss: 0.4136\nEpoch 5/5\n\u001b[1m625/625\u001b[0m \u001b[32m━━━━━━━━━━━━━━━━━━━━\u001b[0m\u001b[37m\u001b[0m \u001b[1m7s\u001b[0m 11ms/step - accuracy: 0.9721 - loss: 0.0813 - val_accuracy: 0.7855 - val_loss: 0.6735\nEpoch 1/5\n\u001b[1m625/625\u001b[0m \u001b[32m━━━━━━━━━━━━━━━━━━━━\u001b[0m\u001b[37m\u001b[0m \u001b[1m10s\u001b[0m 14ms/step - accuracy: 0.7609 - loss: 0.4751 - val_accuracy: 0.8106 - val_loss: 0.4766\nEpoch 2/5\n\u001b[1m625/625\u001b[0m \u001b[32m━━━━━━━━━━━━━━━━━━━━\u001b[0m\u001b[37m\u001b[0m \u001b[1m9s\u001b[0m 14ms/step - accuracy: 0.9133 - loss: 0.2212 - val_accuracy: 0.8628 - val_loss: 0.3185\nEpoch 3/5\n\u001b[1m625/625\u001b[0m \u001b[32m━━━━━━━━━━━━━━━━━━━━\u001b[0m\u001b[37m\u001b[0m \u001b[1m9s\u001b[0m 14ms/step - accuracy: 0.9354 - loss: 0.1747 - val_accuracy: 0.8142 - val_loss: 0.5186\nEpoch 4/5\n\u001b[1m625/625\u001b[0m \u001b[32m━━━━━━━━━━━━━━━━━━━━\u001b[0m\u001b[37m\u001b[0m \u001b[1m9s\u001b[0m 14ms/step - accuracy: 0.9576 - loss: 0.1181 - val_accuracy: 0.8045 - val_loss: 0.6199\nEpoch 5/5\n\u001b[1m625/625\u001b[0m \u001b[32m━━━━━━━━━━━━━━━━━━━━\u001b[0m\u001b[37m\u001b[0m \u001b[1m9s\u001b[0m 14ms/step - accuracy: 0.9682 - loss: 0.0924 - val_accuracy: 0.8004 - val_loss: 0.6164\nEpoch 1/5\n",
          "output_type": "stream"
        },
        {
          "name": "stderr",
          "text": "/opt/conda/lib/python3.10/site-packages/keras/src/layers/rnn/rnn.py:204: UserWarning: Do not pass an `input_shape`/`input_dim` argument to a layer. When using Sequential models, prefer using an `Input(shape)` object as the first layer in the model instead.\n  super().__init__(**kwargs)\n",
          "output_type": "stream"
        },
        {
          "name": "stdout",
          "text": "\u001b[1m115/115\u001b[0m \u001b[32m━━━━━━━━━━━━━━━━━━━━\u001b[0m\u001b[37m\u001b[0m \u001b[1m7s\u001b[0m 46ms/step - accuracy: 0.1819 - loss: 1.7994 - val_accuracy: 0.1781 - val_loss: 1.7720\nEpoch 2/5\n\u001b[1m115/115\u001b[0m \u001b[32m━━━━━━━━━━━━━━━━━━━━\u001b[0m\u001b[37m\u001b[0m \u001b[1m4s\u001b[0m 32ms/step - accuracy: 0.2235 - loss: 1.7538 - val_accuracy: 0.1805 - val_loss: 1.8548\nEpoch 3/5\n\u001b[1m115/115\u001b[0m \u001b[32m━━━━━━━━━━━━━━━━━━━━\u001b[0m\u001b[37m\u001b[0m \u001b[1m4s\u001b[0m 32ms/step - accuracy: 0.1918 - loss: 1.8008 - val_accuracy: 0.1849 - val_loss: 1.7778\nEpoch 4/5\n\u001b[1m115/115\u001b[0m \u001b[32m━━━━━━━━━━━━━━━━━━━━\u001b[0m\u001b[37m\u001b[0m \u001b[1m4s\u001b[0m 32ms/step - accuracy: 0.1970 - loss: 1.7741 - val_accuracy: 0.2073 - val_loss: 1.7756\nEpoch 5/5\n\u001b[1m115/115\u001b[0m \u001b[32m━━━━━━━━━━━━━━━━━━━━\u001b[0m\u001b[37m\u001b[0m \u001b[1m4s\u001b[0m 33ms/step - accuracy: 0.2132 - loss: 1.7676 - val_accuracy: 0.2674 - val_loss: 1.7685\nEpoch 1/5\n\u001b[1m115/115\u001b[0m \u001b[32m━━━━━━━━━━━━━━━━━━━━\u001b[0m\u001b[37m\u001b[0m \u001b[1m7s\u001b[0m 48ms/step - accuracy: 0.1822 - loss: 1.8118 - val_accuracy: 0.1822 - val_loss: 1.7968\nEpoch 2/5\n\u001b[1m115/115\u001b[0m \u001b[32m━━━━━━━━━━━━━━━━━━━━\u001b[0m\u001b[37m\u001b[0m \u001b[1m4s\u001b[0m 33ms/step - accuracy: 0.1832 - loss: 1.7908 - val_accuracy: 0.1822 - val_loss: 1.7956\nEpoch 3/5\n\u001b[1m115/115\u001b[0m \u001b[32m━━━━━━━━━━━━━━━━━━━━\u001b[0m\u001b[37m\u001b[0m \u001b[1m4s\u001b[0m 33ms/step - accuracy: 0.2039 - loss: 1.7859 - val_accuracy: 0.1683 - val_loss: 1.7882\nEpoch 4/5\n\u001b[1m115/115\u001b[0m \u001b[32m━━━━━━━━━━━━━━━━━━━━\u001b[0m\u001b[37m\u001b[0m \u001b[1m4s\u001b[0m 33ms/step - accuracy: 0.1958 - loss: 1.7858 - val_accuracy: 0.1822 - val_loss: 1.7964\nEpoch 5/5\n\u001b[1m115/115\u001b[0m \u001b[32m━━━━━━━━━━━━━━━━━━━━\u001b[0m\u001b[37m\u001b[0m \u001b[1m4s\u001b[0m 33ms/step - accuracy: 0.1965 - loss: 1.7838 - val_accuracy: 0.1666 - val_loss: 1.7928\nEpoch 1/5\n\u001b[1m115/115\u001b[0m \u001b[32m━━━━━━━━━━━━━━━━━━━━\u001b[0m\u001b[37m\u001b[0m \u001b[1m8s\u001b[0m 51ms/step - accuracy: 0.2000 - loss: 1.8023 - val_accuracy: 0.1598 - val_loss: 1.8018\nEpoch 2/5\n\u001b[1m115/115\u001b[0m \u001b[32m━━━━━━━━━━━━━━━━━━━━\u001b[0m\u001b[37m\u001b[0m \u001b[1m4s\u001b[0m 36ms/step - accuracy: 0.1795 - loss: 1.8029 - val_accuracy: 0.2131 - val_loss: 1.7923\nEpoch 3/5\n\u001b[1m115/115\u001b[0m \u001b[32m━━━━━━━━━━━━━━━━━━━━\u001b[0m\u001b[37m\u001b[0m \u001b[1m4s\u001b[0m 36ms/step - accuracy: 0.1933 - loss: 1.7922 - val_accuracy: 0.1805 - val_loss: 1.8043\nEpoch 4/5\n\u001b[1m115/115\u001b[0m \u001b[32m━━━━━━━━━━━━━━━━━━━━\u001b[0m\u001b[37m\u001b[0m \u001b[1m4s\u001b[0m 36ms/step - accuracy: 0.1821 - loss: 1.7989 - val_accuracy: 0.1805 - val_loss: 1.7947\nEpoch 5/5\n\u001b[1m115/115\u001b[0m \u001b[32m━━━━━━━━━━━━━━━━━━━━\u001b[0m\u001b[37m\u001b[0m \u001b[1m4s\u001b[0m 36ms/step - accuracy: 0.1989 - loss: 1.7847 - val_accuracy: 0.1992 - val_loss: 1.7854\nEpoch 1/5\n\u001b[1m115/115\u001b[0m \u001b[32m━━━━━━━━━━━━━━━━━━━━\u001b[0m\u001b[37m\u001b[0m \u001b[1m4s\u001b[0m 21ms/step - accuracy: 0.1821 - loss: 1.7868 - val_accuracy: 0.1826 - val_loss: 1.7862\nEpoch 2/5\n\u001b[1m115/115\u001b[0m \u001b[32m━━━━━━━━━━━━━━━━━━━━\u001b[0m\u001b[37m\u001b[0m \u001b[1m2s\u001b[0m 20ms/step - accuracy: 0.1948 - loss: 1.7809 - val_accuracy: 0.1822 - val_loss: 1.7864\nEpoch 3/5\n\u001b[1m115/115\u001b[0m \u001b[32m━━━━━━━━━━━━━━━━━━━━\u001b[0m\u001b[37m\u001b[0m \u001b[1m2s\u001b[0m 20ms/step - accuracy: 0.1964 - loss: 1.7811 - val_accuracy: 0.1683 - val_loss: 1.7907\nEpoch 4/5\n\u001b[1m115/115\u001b[0m \u001b[32m━━━━━━━━━━━━━━━━━━━━\u001b[0m\u001b[37m\u001b[0m \u001b[1m2s\u001b[0m 19ms/step - accuracy: 0.1762 - loss: 1.7881 - val_accuracy: 0.1822 - val_loss: 1.7851\nEpoch 5/5\n\u001b[1m115/115\u001b[0m \u001b[32m━━━━━━━━━━━━━━━━━━━━\u001b[0m\u001b[37m\u001b[0m \u001b[1m2s\u001b[0m 20ms/step - accuracy: 0.1970 - loss: 1.7703 - val_accuracy: 0.1822 - val_loss: 1.7884\nEpoch 1/5\n\u001b[1m115/115\u001b[0m \u001b[32m━━━━━━━━━━━━━━━━━━━━\u001b[0m\u001b[37m\u001b[0m \u001b[1m4s\u001b[0m 22ms/step - accuracy: 0.1843 - loss: 1.7859 - val_accuracy: 0.1822 - val_loss: 1.7874\nEpoch 2/5\n\u001b[1m115/115\u001b[0m \u001b[32m━━━━━━━━━━━━━━━━━━━━\u001b[0m\u001b[37m\u001b[0m \u001b[1m2s\u001b[0m 20ms/step - accuracy: 0.1980 - loss: 1.7827 - val_accuracy: 0.1822 - val_loss: 1.7881\nEpoch 3/5\n\u001b[1m115/115\u001b[0m \u001b[32m━━━━━━━━━━━━━━━━━━━━\u001b[0m\u001b[37m\u001b[0m \u001b[1m2s\u001b[0m 20ms/step - accuracy: 0.1971 - loss: 1.7812 - val_accuracy: 0.1822 - val_loss: 1.7870\nEpoch 4/5\n\u001b[1m115/115\u001b[0m \u001b[32m━━━━━━━━━━━━━━━━━━━━\u001b[0m\u001b[37m\u001b[0m \u001b[1m2s\u001b[0m 20ms/step - accuracy: 0.1900 - loss: 1.7830 - val_accuracy: 0.1822 - val_loss: 1.7864\nEpoch 5/5\n\u001b[1m115/115\u001b[0m \u001b[32m━━━━━━━━━━━━━━━━━━━━\u001b[0m\u001b[37m\u001b[0m \u001b[1m2s\u001b[0m 20ms/step - accuracy: 0.1953 - loss: 1.7779 - val_accuracy: 0.1819 - val_loss: 1.7712\nEpoch 1/5\n\u001b[1m115/115\u001b[0m \u001b[32m━━━━━━━━━━━━━━━━━━━━\u001b[0m\u001b[37m\u001b[0m \u001b[1m4s\u001b[0m 26ms/step - accuracy: 0.1833 - loss: 1.7870 - val_accuracy: 0.1822 - val_loss: 1.7883\nEpoch 2/5\n\u001b[1m115/115\u001b[0m \u001b[32m━━━━━━━━━━━━━━━━━━━━\u001b[0m\u001b[37m\u001b[0m \u001b[1m3s\u001b[0m 24ms/step - accuracy: 0.1954 - loss: 1.7845 - val_accuracy: 0.1914 - val_loss: 1.7843\nEpoch 3/5\n\u001b[1m115/115\u001b[0m \u001b[32m━━━━━━━━━━━━━━━━━━━━\u001b[0m\u001b[37m\u001b[0m \u001b[1m3s\u001b[0m 24ms/step - accuracy: 0.1931 - loss: 1.7796 - val_accuracy: 0.1883 - val_loss: 1.7839\nEpoch 4/5\n\u001b[1m115/115\u001b[0m \u001b[32m━━━━━━━━━━━━━━━━━━━━\u001b[0m\u001b[37m\u001b[0m \u001b[1m3s\u001b[0m 24ms/step - accuracy: 0.2164 - loss: 1.7798 - val_accuracy: 0.1822 - val_loss: 1.7878\nEpoch 5/5\n\u001b[1m115/115\u001b[0m \u001b[32m━━━━━━━━━━━━━━━━━━━━\u001b[0m\u001b[37m\u001b[0m \u001b[1m3s\u001b[0m 24ms/step - accuracy: 0.1865 - loss: 1.7776 - val_accuracy: 0.1629 - val_loss: 1.7807\n   Dataset Model  Units  Accuracy\n0     IMDb   RNN     32  0.766500\n1     IMDb   RNN     64  0.731500\n2     IMDb   RNN    128  0.578700\n3     IMDb  LSTM     32  0.822900\n4     IMDb  LSTM     64  0.785500\n5     IMDb  LSTM    128  0.800400\n6      HAR   RNN     32  0.267391\n7      HAR   RNN     64  0.166610\n8      HAR   RNN    128  0.199186\n9      HAR  LSTM     32  0.182219\n10     HAR  LSTM     64  0.181880\n11     HAR  LSTM    128  0.162878\n",
          "output_type": "stream"
        }
      ]
    },
    {
      "cell_type": "code",
      "source": [],
      "metadata": {
        "id": "h3JTMdFlRwDg"
      },
      "execution_count": null,
      "outputs": []
    }
  ]
}